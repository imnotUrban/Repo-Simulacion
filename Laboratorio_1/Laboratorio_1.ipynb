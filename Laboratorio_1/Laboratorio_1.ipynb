{
 "cells": [
  {
   "cell_type": "markdown",
   "metadata": {},
   "source": [
    "# SIMULACIÓN: LABORATORIO 1\n",
    "### Entrega: jueves 29 de septiembre, 23:59 horas\n"
   ]
  },
  {
   "cell_type": "markdown",
   "metadata": {},
   "source": [
    "### CONTENIDOS\n",
    "- Ejemplo del lanzamiento de monedas\n",
    "- Conceptos: Espacio muestral, evento, probabilidad\n",
    "- Principios de probabilidad y propiedades\n",
    "\n"
   ]
  },
  {
   "cell_type": "markdown",
   "metadata": {},
   "source": [
    "### ¿Cómo asignamos valores de probabilidad?\n",
    "\n",
    "- $\\textbf{Enfoque frecuentista relativo o de simulación:}$ Sea $n$ el número de experimentos, y $n(A)$ el número de veces que el evento $A$ ocurre en la realización de esos experimentos, entonces $P(A) = \\frac{n(A)}{n}$\n",
    "\n",
    "- $\\textbf{Enfoque frecuentista clásico:}$ Sea $n(A)$ el número elementos en el evento $A$, y $n(\\Omega)$ el número de elementos en el espacio muestral $\\Omega$, entonces $P(A) = \\frac{n(A)}{n(\\Omega)}$\n",
    "\n",
    "- $\\textbf{Enfoque Bayesiano:}$ Yo pienso que la probabilidad de que me gane un proyecto es $0.9$ (probabilidad a priori)."
   ]
  },
  {
   "cell_type": "code",
   "execution_count": 82,
   "metadata": {},
   "outputs": [],
   "source": [
    "import numpy as np\n",
    "import matplotlib.pyplot as plt\n",
    "import pandas as pd\n",
    "import seaborn as sns"
   ]
  },
  {
   "cell_type": "markdown",
   "metadata": {},
   "source": [
    "## Lanzamiento de monedas"
   ]
  },
  {
   "cell_type": "code",
   "execution_count": 83,
   "metadata": {},
   "outputs": [],
   "source": [
    "# Define algunos parámetros del contexto de trabajo\n",
    "sns.set_context(\"notebook\", \n",
    "                font_scale=1.5, \n",
    "                rc={\"lines.linewidth\": 2.5})\n",
    "sns.set_style('whitegrid')\n",
    "sns.set_palette('deep')\n",
    "# Crea dic variables de color que serán usadas en este contexto\n",
    "rojo= sns.xkcd_rgb['vermillion']\n",
    "azul= sns.xkcd_rgb['dark sky blue']\n"
   ]
  },
  {
   "cell_type": "code",
   "execution_count": 84,
   "metadata": {},
   "outputs": [],
   "source": [
    "#utilzaremos la distribución binomial para modelar el experimento del lanzamiento de una moneda n veces\n",
    "def factorial(n):\n",
    "    \"\"\"Calcula factorial de `n`\n",
    "    \"\"\"\n",
    "    vals = list(range(1, n + 1))\n",
    "    if len(vals) <= 0:\n",
    "        return 1\n",
    "\n",
    "    prod = 1\n",
    "    for val in vals:\n",
    "        prod *= val\n",
    "        \n",
    "    return prod\n",
    "    \n",
    "    \n",
    "def n_choose_k(n, k):\n",
    "    \"\"\"Calcula la combinatoria de n y k \n",
    "    \"\"\"\n",
    "    return factorial(n) / (factorial(k) * factorial(n - k))\n",
    "\n",
    "\n",
    "def binom_prob(n, k, p):\n",
    "    \"\"\"Retorna la probabilidad de que ocurran `k` caras in `n` lanzamientos de una moneda\n",
    "    \n",
    "    Argumentos:\n",
    "    \n",
    "    n - número de ensayos\n",
    "    k - número de ensayos en los que se obtiene cara\n",
    "    p - probabilidad de que el evento \"obtener cara\" ocurra\n",
    "    \n",
    "    \"\"\"\n",
    "    return n_choose_k(n, k) * p**k * (1 - p)**(n - k)\n",
    "\n",
    "def lanzaMoneda(N_caras, N_exper): \n",
    "    # Calcula la probabilidad de cada posible salida (N_caras) \n",
    "    # del experimento de lanzar N_exper veces una moneda equilibrada\n",
    "    probabilidades = [binom_prob(N_exper, k, 0.5) for k in range(1, N_exper + 1)]\n",
    "    #p_value es la probabilidad de que la salida sea mayor o igual que N_caras\n",
    "    p_value = (np.sum(probabilidades[N_caras-1:]))\n",
    "    # Grafica la distribución de probabilidad calculada\n",
    "    plt.step(range(1, N_exper + 1), probabilidades, where='mid', color=azul)\n",
    "    plt.xlabel('número de caras')\n",
    "    plt.ylabel('probabilidad')\n",
    "    plt.plot((N_caras, N_caras), (0, max(probabilidades)), color=rojo)\n",
    "    \n",
    "    porc = round((p_value)*100,3)\n",
    "    plt.annotate( str(porc) + '%', \n",
    "                 xytext=(N_caras + 10, max(probabilidades)/2), \n",
    "                 xy=(N_caras, max(probabilidades)/2), \n",
    "                 multialignment='right',\n",
    "                 va='center',\n",
    "                 color=rojo,\n",
    "#                  size='large',\n",
    "                 arrowprops={'arrowstyle': '<|-', \n",
    "                             'lw': 1, \n",
    "                             'color': rojo, \n",
    "                             'shrinkA': 1})\n",
    "    return p_value # Se añadió como retorno el valor de p_value"
   ]
  },
  {
   "cell_type": "code",
   "execution_count": 85,
   "metadata": {},
   "outputs": [
    {
     "data": {
      "text/plain": [
       "0.8388818398212265"
      ]
     },
     "execution_count": 85,
     "metadata": {},
     "output_type": "execute_result"
    },
    {
     "data": {
      "image/png": "[encoded data removed]",
      "text/plain": [
       "<Figure size 432x288 with 1 Axes>"
      ]
     },
     "metadata": {},
     "output_type": "display_data"
    }
   ],
   "source": [
    "lanzaMoneda(22,50)\n"
   ]
  },
  {
   "cell_type": "code",
   "execution_count": 86,
   "metadata": {
    "scrolled": true
   },
   "outputs": [
    {
     "name": "stdout",
     "output_type": "stream",
     "text": [
      "P-value simulado: 77.0%\n"
     ]
    }
   ],
   "source": [
    "#Simularemos directamente el lanzamiento de la moneda considerando # valores aleatorios para el resultado de cada lanzamiento\n",
    "M = 0\n",
    "n = 100  # cambie este valor.\n",
    "N_caras = 22\n",
    "N_exper = 50\n",
    "for i in range(n):\n",
    "    #genera N_exper valores aleatorios 0 o 1\n",
    "    ensayos = np.random.randint(2, size=N_exper)\n",
    "    if (ensayos.sum() >= N_caras):\n",
    "        M += 1\n",
    "p = M / n\n",
    "\n",
    "print(\"P-value simulado: %0.1f%%\" % (p * 100))\n",
    "# lanzaMoneda(N_caras,N_exper)"
   ]
  },
  {
   "cell_type": "markdown",
   "metadata": {},
   "source": [
    "### Pregunta 1\n",
    "i) Utilice distintos valores para N_caras y N_exper ¿Qué es el valor \"p\" en ambos casos?\n",
    "\n",
    "ii) En el código de la simulación, considere valores crecientes de n ¿Desde qué cantidad la simulación reemplaza el análisis estadístico? Agregue código para graficar el comportamiento de convergencia de la simulación al valor obtenido utilizando la distribución binomial."
   ]
  },
  {
   "cell_type": "code",
   "execution_count": 87,
   "metadata": {},
   "outputs": [],
   "source": [
    "# Si lanzaramos 50 veces una moneda, y 22 veces fuera cara, para una cantidad de 'n' experimentos tendríamos: p_value\n",
    "# el cual es la probabilidad de que la salida sea mayor o igual que N_caras; si p_value = 0.8388\n",
    "# significa que el 83.88% de las veces que se hizo el experimento se obtuvo 22 caras o más."
   ]
  },
  {
   "cell_type": "code",
   "execution_count": 88,
   "metadata": {},
   "outputs": [
    {
     "name": "stdout",
     "output_type": "stream",
     "text": [
      "0.5397946186935894\n"
     ]
    },
    {
     "data": {
      "image/png": "[encoded data removed]",
      "text/plain": [
       "<Figure size 432x288 with 1 Axes>"
      ]
     },
     "metadata": {},
     "output_type": "display_data"
    }
   ],
   "source": [
    "def lanzaSimulacion(n):\n",
    "    \"\"\"\n",
    "    Simula el lanzamiento de una moneda equilibrada n veces\n",
    "    Y retorna la probabilidad de que la salida sea mayor o igual que N_caras : p\n",
    "    \"\"\"\n",
    "    M = 0\n",
    "    N_caras = 50\n",
    "    N_exper = 100\n",
    "    for i in range(n):\n",
    "        #genera N_exper valores aleatorios 0 o 1\n",
    "        ensayos = np.random.randint(2, size=N_exper)\n",
    "        if (ensayos.sum() >= N_caras):\n",
    "            M += 1\n",
    "\n",
    "    p_simulado = M / n\n",
    "    return p_simulado\n",
    "\n",
    "p_binom = lanzaMoneda(50,100)\n",
    "print(p_binom)"
   ]
  },
  {
   "cell_type": "code",
   "execution_count": 89,
   "metadata": {},
   "outputs": [],
   "source": [
    "# (1.ii)\n",
    "# Para contextualizar:\n",
    "# ( * ) Tenemos un experimento estadístico, el cuál está programado en 'lanzaMoneda(n_caras, n_experimentos)', este ocupa el método de la distribución binomial\n",
    "# para calcular la probabilidad de que ocurra un evento, en este caso, el número de caras que se obtendrán en n_experimentos lanzamientos de una moneda equilibrada.\n",
    "\n",
    "# ( * ) A su vez tenemos una simulación, el cuál se sustenta en una cantidad de 'n' experimentos, en los cuales se generan valores aleatorios para el resultado de cada lanzamiento de la moneda,\n",
    "# y se calcula la probabilidad de que la cantidad de caras sea mayor o igual a 22.\n",
    "\n",
    "# Ejemplo n=2, n_caras= 5, n_exper = 10\n",
    "# n=1 -> [0 1 1 0 1 0 1 0 1 0] -> El arreglo tiene un largo 10, y 5 caras\n",
    "# n=2 -> [1 1 1 1 1 0 1 1 1 1] -> El arreglo tiene un largo 10, y 9 caras\n",
    "# Por ende, bajo esos resultados p sería 1 (100%) ya que en ambos casos se obtuvo 5 caras o más. Mientras más experimentos tengamos, más cercano será el p_simulado a p_value (binomial).\n",
    "\n",
    "p_simulados = []\n",
    "p_simulado = 0\n",
    "n = 10\n",
    "while (round(p_simulado, 3) != round(p_binom, 3)):\n",
    "    p_simulado = lanzaSimulacion(n)\n",
    "    p_simulados.append(p_simulado)\n",
    "    n +=10"
   ]
  },
  {
   "cell_type": "code",
   "execution_count": 90,
   "metadata": {},
   "outputs": [
    {
     "name": "stdout",
     "output_type": "stream",
     "text": [
      "35\n"
     ]
    }
   ],
   "source": [
    "# Iteraciones de n para que p_simulado sea \"igual\" a p_value\n",
    "print(len(p_simulados))\n",
    "# Construimos un arreglo con los valores de n utilizados\n",
    "n_range = np.arange(10, 10*len(p_simulados)+10, 10)"
   ]
  },
  {
   "cell_type": "code",
   "execution_count": 91,
   "metadata": {},
   "outputs": [
    {
     "data": {
      "image/png": "[encoded data removed]",
      "text/plain": [
       "<Figure size 1080x432 with 1 Axes>"
      ]
     },
     "metadata": {},
     "output_type": "display_data"
    },
    {
     "name": "stdout",
     "output_type": "stream",
     "text": [
      "Cada set de experimentos (n=10 hasta n=350, step = 10) se realizó con N_exper=100 veces, para N_caras=50 veces\n"
     ]
    }
   ],
   "source": [
    "plt.figure(figsize=(15, 6))\n",
    "# Graficamos los valores de p_simulado en función de n\n",
    "plt.plot(n_range, p_simulados, color=azul)\n",
    "\n",
    "# marcamos p_binom\n",
    "plt.plot((0, n_range[-1]), (p_binom, p_binom), color=rojo)\n",
    "\n",
    "# info gráfica\n",
    "plt.legend(['p_simulado', 'p_binom'])\n",
    "plt.title('Convergencia entre p_simulado y p_binom (3 decimales)')\n",
    "plt.xlabel('n experimentos')\n",
    "plt.ylabel('p_simulado')\n",
    "plt.show();\n",
    "print(f\"Cada set de experimentos (n={n_range[0]} hasta n={n_range[-1]}, step = 10) se realizó con N_exper=100 veces, para N_caras=50 veces\")"
   ]
  },
  {
   "cell_type": "markdown",
   "metadata": {},
   "source": [
    "### Pregunta 2 \n",
    "En un certamen literario hay 3 premios: ganador, finalista y mención honrosa. Cada participante sólo puede obtener un premio. Si participan 12 personas en el certamen, se puede definir, el espacio muestral de los posibles resultados como:\n",
    "\n",
    "${S = \\{ \\text{todas las formas de ordenar } (1,2,3,4,5,6,7,8,9,10,11,12) \\}}$\n",
    "\n",
    "En donde los números identifican a cada una de las 12 personas y  las primeras tres ubicaciones corresponden a los escritores premiados.\n",
    "\n",
    "Sea ${A}$ el evento en que la persona #1 es ganador, el evento ${B}$ denota que la persona #2 no gana ningún premio, y el evento ${C}$ es que la persona #3 gana la mención honrosa.\n",
    "\n",
    "Simule las probabilidades de los siguientes eventos y compare con los valores teóricos:  \n",
    "\n",
    "(i) $A \\cup B$ \n",
    "\n",
    "(ii) $A \\cap B$\n",
    "\n",
    "(iii) $A \\cap B \\cap C$\n",
    "\n",
    "(iv) $A \\cup (B\\cap C)$\n",
    "\n",
    "\n",
    "puede usar random.shuffle de la biblioteca random para generar permutaciones aleatorias de [1,2,...,12] "
   ]
  },
  {
   "cell_type": "code",
   "execution_count": 92,
   "metadata": {},
   "outputs": [],
   "source": [
    "# (1.iii)\n",
    "# Sea un set F = [a,b,c,d] todas las formas de ordenarlo serían:\n",
    "# F = [a,b,c,d], [a,b,d,c], [a,c,b,d], [a,c,d,b], [a,d,b,c], [a,d,c,b], [b,a,c,d], [b,a,d,c], [b,c,a,d], [b,c,d,a], [b,d,a,c], [b,d,c,a],\n",
    "#     [c,a,b,d], [c,a,d,b], [c,b,a,d], [c,b,d,a], [c,d,a,b], [c,d,b,a], [d,a,b,c], [d,a,c,b], [d,b,a,c], [d,b,c,a], [d,c,a,b], [d,c,b,a]\n",
    "# La cantidad de formas de ordenar un set de 4 elementos es 24 = 4! = 4 * 3 * 2 * 1\n",
    "\n",
    "# a sería ganador en 6 de las 24 posibles combinaciones -> 3! = 3 * 2 * 1"
   ]
  },
  {
   "cell_type": "code",
   "execution_count": 93,
   "metadata": {},
   "outputs": [],
   "source": [
    "# ganador finalista mencion_honorosa perdedor4 perdedor5 perdedor6 perdedor7 perdedor8 perdedor9 perdedor10 perdedor11 perdedor12\n"
   ]
  },
  {
   "cell_type": "code",
   "execution_count": 94,
   "metadata": {},
   "outputs": [],
   "source": [
    "import pandas as pd\n",
    "import numpy as np\n",
    "import random"
   ]
  },
  {
   "cell_type": "code",
   "execution_count": 95,
   "metadata": {},
   "outputs": [],
   "source": [
    "positions = np.array([1,2,3,4,5,6,7,8,9,10,11,12])\n",
    "cont = 0\n",
    "#create array np\n",
    "conts = np.array([])\n",
    "n = 1000\n",
    "N_exper = 100"
   ]
  },
  {
   "cell_type": "markdown",
   "metadata": {},
   "source": [
    "<img src=\"probabilidades.jpeg\">"
   ]
  },
  {
   "cell_type": "code",
   "execution_count": 96,
   "metadata": {},
   "outputs": [
    {
     "name": "stdout",
     "output_type": "stream",
     "text": [
      "0.08276\n"
     ]
    }
   ],
   "source": [
    "# Probabilidad de A \n",
    "conts = np.array([])\n",
    "\n",
    "for i in range(n):\n",
    "    for j in range(1, N_exper):\n",
    "        random.shuffle(positions)\n",
    "        if(positions[0]==1):\n",
    "            cont += 1\n",
    "\n",
    "    conts = np.append(conts, cont/N_exper)\n",
    "    cont = 0\n",
    "    \n",
    "print(conts.mean())"
   ]
  },
  {
   "cell_type": "code",
   "execution_count": 97,
   "metadata": {},
   "outputs": [
    {
     "name": "stdout",
     "output_type": "stream",
     "text": [
      "0.74115\n"
     ]
    }
   ],
   "source": [
    "# Probabilidad de B \n",
    "conts = np.array([])\n",
    "\n",
    "for i in range(n):\n",
    "    for j in range(1, N_exper):\n",
    "        random.shuffle(positions)\n",
    "        if(np.where(positions == 2)[0][0] > 2):\n",
    "            cont += 1\n",
    "   \n",
    "    conts = np.append(conts, cont/N_exper)\n",
    "    cont = 0\n",
    "    \n",
    "print(conts.mean())"
   ]
  },
  {
   "cell_type": "markdown",
   "metadata": {},
   "source": [
    "<img src=\"1.jpeg\">"
   ]
  },
  {
   "cell_type": "code",
   "execution_count": 98,
   "metadata": {},
   "outputs": [
    {
     "name": "stdout",
     "output_type": "stream",
     "text": [
      "0.8379500000000001\n"
     ]
    }
   ],
   "source": [
    "# Probabilidad de A Union B \n",
    "conts = np.array([])\n",
    "\n",
    "for i in range(n):\n",
    "    for j in range(1, N_exper):\n",
    "        random.shuffle(positions)\n",
    "        if(positions[0]==1):\n",
    "            cont += 1\n",
    "        if(positions[0]==1 or np.where(positions == 2)[0][0] > 2):\n",
    "            cont += 1\n",
    "    \n",
    "    conts = np.append(conts, cont/N_exper)\n",
    "    cont = 0\n",
    "print(conts.mean())"
   ]
  },
  {
   "cell_type": "markdown",
   "metadata": {},
   "source": [
    "<img src=\"2.jpeg\">"
   ]
  },
  {
   "cell_type": "code",
   "execution_count": 99,
   "metadata": {},
   "outputs": [
    {
     "name": "stdout",
     "output_type": "stream",
     "text": [
      "0.0664\n"
     ]
    }
   ],
   "source": [
    "# Probabilidad de A Interseccion B \n",
    "conts = np.array([])\n",
    "\n",
    "for i in range(n):\n",
    "    for j in range(1, N_exper):\n",
    "        random.shuffle(positions)\n",
    "        if(positions[0]==1 and np.where(positions == 2)[0][0] > 2):\n",
    "            cont += 1\n",
    "    conts = np.append(conts, cont/N_exper)\n",
    "    cont = 0\n",
    "    \n",
    "print(conts.mean())"
   ]
  },
  {
   "cell_type": "markdown",
   "metadata": {},
   "source": [
    "<img src=\"3.jpeg\">"
   ]
  },
  {
   "cell_type": "code",
   "execution_count": 100,
   "metadata": {},
   "outputs": [
    {
     "name": "stdout",
     "output_type": "stream",
     "text": [
      "0.006730000000000001\n"
     ]
    }
   ],
   "source": [
    "# Probabilidad de A Interseccion B Interseccion C\n",
    "conts = np.array([])\n",
    "\n",
    "for i in range(n):\n",
    "    for j in range(1, N_exper):\n",
    "        random.shuffle(positions)\n",
    "        if(positions[0]==1 and np.where(positions == 2)[0][0] > 2 and positions[2]==3):\n",
    "            cont += 1\n",
    "    conts = np.append(conts, cont/N_exper)\n",
    "    cont = 0\n",
    "    \n",
    "print(conts.mean())"
   ]
  },
  {
   "cell_type": "markdown",
   "metadata": {},
   "source": [
    "<img src=\"4.jpeg\">"
   ]
  },
  {
   "cell_type": "code",
   "execution_count": 101,
   "metadata": {},
   "outputs": [
    {
     "name": "stdout",
     "output_type": "stream",
     "text": [
      "0.14223000000000002\n"
     ]
    }
   ],
   "source": [
    "# Probabilidad de A Union ( B Interseccion C )\n",
    "conts = np.array([])\n",
    "\n",
    "for i in range(n):\n",
    "    for j in range(1, N_exper):\n",
    "        random.shuffle(positions)\n",
    "        if(positions[0]==1 or ( np.where(positions == 2)[0][0] > 2 and positions[2]==3)):\n",
    "            cont += 1\n",
    "    conts = np.append(conts, cont/N_exper)\n",
    "    cont = 0\n",
    "    \n",
    "print(conts.mean())"
   ]
  },
  {
   "cell_type": "markdown",
   "metadata": {},
   "source": [
    "## Comparación entre los resultados obtenidos\n",
    "R: Entre la simulación y los valores reales calculados a mano hay discrepancias muy pequeñas, esto se debe a que la simulación tiene un comportamiento pseudoaleatorio, teniendo esto en cuenta los valores pueden variar, así mismo, si la simulación se itera, los resultados podrían ser más exactos"
   ]
  },
  {
   "cell_type": "markdown",
   "metadata": {},
   "source": [
    "### Pregunta 3\n",
    "\n",
    "(i)  Demuestre (b) y (c) en la propiedad de Independencia.\n",
    "\n",
    "(ii) Demuestre el Teorema de las Probabiliades totales.\n"
   ]
  },
  {
   "cell_type": "markdown",
   "metadata": {},
   "source": [
    "<img src=\"3-12.jpg\">\n",
    "<img src=\"3-1.jpg\">"
   ]
  },
  {
   "cell_type": "markdown",
   "metadata": {},
   "source": [
    "<img src=\"ultima.jpg\">"
   ]
  },
  {
   "cell_type": "markdown",
   "metadata": {},
   "source": [
    "# Referencias\n",
    "1. https://github.com/croach/statistics-for-hackers/blob/master/statistics-for-hackers.ipynb\n",
    "2. Ross, S. M. (2006). Simulation. Elsevier."
   ]
  }
 ],
 "metadata": {
  "kernelspec": {
   "display_name": "Python 3.9.13 64-bit (microsoft store)",
   "language": "python",
   "name": "python3"
  },
  "language_info": {
   "codemirror_mode": {
    "name": "ipython",
    "version": 3
   },
   "file_extension": ".py",
   "mimetype": "text/x-python",
   "name": "python",
   "nbconvert_exporter": "python",
   "pygments_lexer": "ipython3",
   "version": "3.9.13"
  },
  "vscode": {
   "interpreter": {
    "hash": "ef3dd188f3285f28d004c04103790ef7934a917ec6485d7fe5f85d8d9b64ed78"
   }
  }
 },
 "nbformat": 4,
 "nbformat_minor": 2
}
